{
 "cells": [
  {
   "cell_type": "markdown",
   "metadata": {
    "slideshow": {
     "slide_type": "skip"
    },
    "toc": "true"
   },
   "source": [
    "# Table of Contents\n",
    " <p><div class=\"lev1 toc-item\"><a href=\"#Introduction-aux-notebooks-Jupyter\" data-toc-modified-id=\"Introduction-aux-notebooks-Jupyter-1\"><span class=\"toc-item-num\">1&nbsp;&nbsp;</span>Introduction aux notebooks Jupyter</a></div><div class=\"lev2 toc-item\"><a href=\"#Présentation-de-Jupyter\" data-toc-modified-id=\"Présentation-de-Jupyter-11\"><span class=\"toc-item-num\">1.1&nbsp;&nbsp;</span>Présentation de Jupyter</a></div><div class=\"lev3 toc-item\"><a href=\"#Qu’est-ce-que-Jupyter-?\" data-toc-modified-id=\"Qu’est-ce-que-Jupyter-?-111\"><span class=\"toc-item-num\">1.1.1&nbsp;&nbsp;</span>Qu’est-ce que Jupyter ?</a></div><div class=\"lev3 toc-item\"><a href=\"#Qu’est-ce-qu’un-notebook-Jupyter-?\" data-toc-modified-id=\"Qu’est-ce-qu’un-notebook-Jupyter-?-112\"><span class=\"toc-item-num\">1.1.2&nbsp;&nbsp;</span>Qu’est-ce qu’un notebook Jupyter ?</a></div><div class=\"lev3 toc-item\"><a href=\"#Qu'est-ce-que-l’écosystème-Jupyter-?\" data-toc-modified-id=\"Qu'est-ce-que-l’écosystème-Jupyter-?-113\"><span class=\"toc-item-num\">1.1.3&nbsp;&nbsp;</span>Qu'est-ce que l’écosystème Jupyter ?</a></div><div class=\"lev3 toc-item\"><a href=\"#Quels-problèmes-résolvent-les-notebooks-Jupyter-?\" data-toc-modified-id=\"Quels-problèmes-résolvent-les-notebooks-Jupyter-?-114\"><span class=\"toc-item-num\">1.1.4&nbsp;&nbsp;</span>Quels problèmes résolvent les notebooks Jupyter ?</a></div><div class=\"lev2 toc-item\"><a href=\"#Comment-installer-Jupyter\" data-toc-modified-id=\"Comment-installer-Jupyter-12\"><span class=\"toc-item-num\">1.2&nbsp;&nbsp;</span>Comment installer Jupyter</a></div><div class=\"lev2 toc-item\"><a href=\"#Comment-utiliser-Jupyter-pour-écrire-des-documents-simples\" data-toc-modified-id=\"Comment-utiliser-Jupyter-pour-écrire-des-documents-simples-13\"><span class=\"toc-item-num\">1.3&nbsp;&nbsp;</span>Comment utiliser Jupyter pour écrire des documents simples</a></div><div class=\"lev2 toc-item\"><a href=\"#Des-exemples-en-Python\" data-toc-modified-id=\"Des-exemples-en-Python-14\"><span class=\"toc-item-num\">1.4&nbsp;&nbsp;</span>Des exemples en Python</a></div><div class=\"lev3 toc-item\"><a href=\"#Premier-contact-avec-Python\" data-toc-modified-id=\"Premier-contact-avec-Python-141\"><span class=\"toc-item-num\">1.4.1&nbsp;&nbsp;</span>Premier contact avec Python</a></div><div class=\"lev3 toc-item\"><a href=\"#Manipulation-de-tableaux-numpy-et-affichage-avec-Matplotlib\" data-toc-modified-id=\"Manipulation-de-tableaux-numpy-et-affichage-avec-Matplotlib-142\"><span class=\"toc-item-num\">1.4.2&nbsp;&nbsp;</span>Manipulation de tableaux numpy et affichage avec Matplotlib</a></div><div class=\"lev3 toc-item\"><a href=\"#Pavage-de-Penrose-avec-un-joli-programme\" data-toc-modified-id=\"Pavage-de-Penrose-avec-un-joli-programme-143\"><span class=\"toc-item-num\">1.4.3&nbsp;&nbsp;</span>Pavage de Penrose avec un joli programme</a></div><div class=\"lev2 toc-item\"><a href=\"#Présentant-ma-propre-utilisation-de-notebooks-Jupyter\" data-toc-modified-id=\"Présentant-ma-propre-utilisation-de-notebooks-Jupyter-15\"><span class=\"toc-item-num\">1.5&nbsp;&nbsp;</span>Présentant ma propre utilisation de notebooks Jupyter</a></div><div class=\"lev3 toc-item\"><a href=\"#Quelques-micro-exemples-très-pratiques\" data-toc-modified-id=\"Quelques-micro-exemples-très-pratiques-151\"><span class=\"toc-item-num\">1.5.1&nbsp;&nbsp;</span>Quelques micro exemples très pratiques</a></div><div class=\"lev3 toc-item\"><a href=\"#Correction-interactive-de-TP-en-prépa-(PSI)\" data-toc-modified-id=\"Correction-interactive-de-TP-en-prépa-(PSI)-152\"><span class=\"toc-item-num\">1.5.2&nbsp;&nbsp;</span>Correction interactive de TP en prépa (PSI)</a></div><div class=\"lev3 toc-item\"><a href=\"#Entraînement-à-l'oral-de-modélisation-d'agrégation-(maths-option-info)\" data-toc-modified-id=\"Entraînement-à-l'oral-de-modélisation-d'agrégation-(maths-option-info)-153\"><span class=\"toc-item-num\">1.5.3&nbsp;&nbsp;</span>Entraînement à l'oral de modélisation d'agrégation (maths option info)</a></div><div class=\"lev3 toc-item\"><a href=\"#Cours-d'algorithmique-en-L3-informatique\" data-toc-modified-id=\"Cours-d'algorithmique-en-L3-informatique-154\"><span class=\"toc-item-num\">1.5.4&nbsp;&nbsp;</span>Cours d'algorithmique en L3 informatique</a></div><div class=\"lev2 toc-item\"><a href=\"#Conclusion-:-conseils-pour-devenir-un-e-expert-e-en-Jupyter\" data-toc-modified-id=\"Conclusion-:-conseils-pour-devenir-un-e-expert-e-en-Jupyter-16\"><span class=\"toc-item-num\">1.6&nbsp;&nbsp;</span>Conclusion : conseils pour devenir un-e expert-e en Jupyter</a></div><div class=\"lev2 toc-item\"><a href=\"#Références-et-liens\" data-toc-modified-id=\"Références-et-liens-17\"><span class=\"toc-item-num\">1.7&nbsp;&nbsp;</span>Références et liens</a></div><div class=\"lev3 toc-item\"><a href=\"#Liens\" data-toc-modified-id=\"Liens-171\"><span class=\"toc-item-num\">1.7.1&nbsp;&nbsp;</span>Liens</a></div><div class=\"lev3 toc-item\"><a href=\"#Publications-universitaires\" data-toc-modified-id=\"Publications-universitaires-172\"><span class=\"toc-item-num\">1.7.2&nbsp;&nbsp;</span>Publications universitaires</a></div>"
   ]
  },
  {
   "cell_type": "markdown",
   "metadata": {
    "slideshow": {
     "slide_type": "slide"
    }
   },
   "source": [
    "# Introduction aux notebooks Jupyter\n",
    "\n",
    "Ce tutoriel durera 55 minutes, durant la journée de mercredi 05 février, à la [conférence Didapro 8](https://www.didapro.org/8/programme/#atelier), à Lille.\n",
    "\n",
    "- Suivez d'abord la présentation, puis il y a aura une activité à faire par vous même, avant de terminer par plusieurs démonstrations.\n",
    "\n",
    "- Ces ressources sont disponibles en ligne sur [`frama.link/Atelier-Jupyter-Didapro8`](https://frama.link/Atelier-Jupyter-Didapro8)"
   ]
  },
  {
   "cell_type": "markdown",
   "metadata": {
    "slideshow": {
     "slide_type": "slide"
    }
   },
   "source": [
    "## Présentation de Jupyter\n",
    "\n",
    "- Qu'est-ce que Jupyter ?\n",
    "- Qu'est-ce qu’un notebook Jupyter ?\n",
    "- Qu'est-ce que l’écosystème Jupyter ?\n",
    "- Quels problèmes résolvent les notebooks Jupyter ?"
   ]
  },
  {
   "cell_type": "markdown",
   "metadata": {
    "slideshow": {
     "slide_type": "slide"
    }
   },
   "source": [
    "### Qu’est-ce que Jupyter ?\n",
    "\n",
    "Un environnement de développement intégré (IDE) \"WYSIWYG\" (What-you-see-is-what-you-get) pour (presque) tous les langages de programmation, que l'on utilise depuis un navigateur Internet.\n",
    "\n",
    "Par exemple, il peut être utilisé pour des langages dynamiques interprétés, tels que Python, OCaml, Julia ou Bash, mais aussi pour des langages compilés, tels que C/C++ etc.\n",
    "\n",
    "C'est un ensemble de logiciels libres et gratuits, installables sur n'importe quel ordinateur moderne et qui sont faciles à prendre en main."
   ]
  },
  {
   "cell_type": "markdown",
   "metadata": {
    "slideshow": {
     "slide_type": "slide"
    }
   },
   "source": [
    "### Qu’est-ce qu’un notebook Jupyter ?\n",
    "\n",
    "C'est un fichier, à l'extension `.ipynb` (*ipy*thon *n*ote*b*ook), qui est un format de texte brut de type [JSON](https://www.json.org/).\n",
    "\n",
    "Ce fichier peut être converti en présentation (slide show) comme celle utilisée aujourd'hui, en page web statique (HTML), en document prêt à être imprimé (PDF), en script (Python ou autre)\n",
    "\n",
    "Le format de fichier, et tous les logiciels de l'environnement Jupyter, sont gratuits et sous licence libre, comme Python."
   ]
  },
  {
   "cell_type": "markdown",
   "metadata": {
    "slideshow": {
     "slide_type": "slide"
    }
   },
   "source": [
    "### Qu'est-ce que l’écosystème Jupyter ?\n",
    "Il a commencé sous le nom ipython il y a environ 15 ans, conçu pour être utilisé uniquement pour le langage de programmation Python, et de nos jours il a évolué en un écosystème open-source mature."
   ]
  },
  {
   "cell_type": "markdown",
   "metadata": {
    "slideshow": {
     "slide_type": "subslide"
    }
   },
   "source": [
    "*Jupyter* est nommé d'après Jupiter, et pour *Ju*lia, *pyt*hon, et *R*, les trois premiers langages pour lesquels Jupyter était disponible.\n",
    "\n",
    "Il est utilisé par des centaines de milliers de scientifiques du monde entier, allant d'étudiants au lycée, en prépa et à l'université en France et ailleurs, aux meilleures équipes utilisant les sciences des données et du numérique.\n",
    "\n",
    "Les notebooks Jupyter sont une alternative gratuite et open-source à l’EDI inclus dans les logiciels propriétaires et payants qui dominent le marché, comme MATLAB, Wolfram's Mathematica et MapleSoft's Maple."
   ]
  },
  {
   "cell_type": "markdown",
   "metadata": {
    "slideshow": {
     "slide_type": "subslide"
    }
   },
   "source": [
    "Parmi ses récentes utilisations réussies, on peut noter la toute première image d’un trou noir obtenue par Katie Bouman et ses collaborateurs, ou pour l'analyse de données par des lauréats de prix Nobel, comme Paul Romer.\n",
    "\n",
    "- Voir par exemple http://www.nationalgeographic.com/science/2019/04/first-picture-black-hole-revealed-m87-event-horizon-telescope-astrophysics/ et http://www.bbc.com/news/science-environment-47891902.\n",
    "- Voir http://paulromer.net/jupyter-mathematica-and-the-future-of-the-research-paper/"
   ]
  },
  {
   "cell_type": "markdown",
   "metadata": {
    "slideshow": {
     "slide_type": "slide"
    }
   },
   "source": [
    "### Quels problèmes résolvent les notebooks Jupyter ?\n",
    "\n",
    "Pourquoi c'est un outil puissant, à la fois facile à apprendre et à utiliser pour les débutants et puissant pour les utilisateurs experts.\n",
    "\n",
    "- Un outil unique pour rédiger du code, sa documentation, les résultats de l'exécution du code, des figures etc,\n",
    "- Facilité de conversion vers d'autres formats (scripts, HTML, PDF etc),\n",
    "- Stocké comme des fichiers textes, compatibilité avec les gestionnaires de version tels que `git`.\n",
    "\n",
    "<center><img width=\"50%\" src=\"figs/git_diff_for_jupyter_notebooks.png\"></center>"
   ]
  },
  {
   "cell_type": "markdown",
   "metadata": {
    "slideshow": {
     "slide_type": "slide"
    }
   },
   "source": [
    "---\n",
    "## Comment installer Jupyter\n",
    "\n",
    "En suivant le tutoriel en ligne depuis https://jupyter.org/install.html, il est facile d’installer tout l’écosystème Jupyter sur tout ordinateur avec Python et pip ou conda installés."
   ]
  },
  {
   "cell_type": "markdown",
   "metadata": {
    "slideshow": {
     "slide_type": "subslide"
    }
   },
   "source": [
    "<img width=\"50%\" src=\"figs/installing_jupyter.png\">"
   ]
  },
  {
   "cell_type": "markdown",
   "metadata": {
    "slideshow": {
     "slide_type": "subslide"
    }
   },
   "source": [
    "Sur Windows ou Mac OS X, ou même la plupart des systèmes GNU/Linux, un installeur gratuit appelé Anaconda (https://www.anaconda.com/distribution/) installe tout ça en un clic !\n",
    "\n",
    "<img width=\"50%\" src=\"figs/installing_jupyter_with_Anaconda.png\">"
   ]
  },
  {
   "cell_type": "markdown",
   "metadata": {
    "slideshow": {
     "slide_type": "slide"
    }
   },
   "source": [
    "## Comment utiliser Jupyter pour écrire des documents simples\n",
    "\n",
    "Je vais vous montrer l'interface utilisateur graphique des notebooks Jupyter, et nous allons voir ensemble comment éditer des cellules de texte ou de code, et exécuter des cellules."
   ]
  },
  {
   "cell_type": "markdown",
   "metadata": {
    "slideshow": {
     "slide_type": "slide"
    }
   },
   "source": [
    "---\n",
    "## Des exemples en Python\n",
    "\n",
    "1. Premier contact avec Python,\n",
    "2. Manipulation de tableaux numpy et affichage avec Matplotlib,\n",
    "3. Un exemple plus impressionnant : pavage de Penrose."
   ]
  },
  {
   "cell_type": "markdown",
   "metadata": {
    "slideshow": {
     "slide_type": "slide"
    }
   },
   "source": [
    "### Premier contact avec Python\n",
    "\n",
    "Deux exemples d'utilisation de Python, venant de la page d'accueil du site https://www.python.org/ :"
   ]
  },
  {
   "cell_type": "code",
   "execution_count": 46,
   "metadata": {
    "slideshow": {
     "slide_type": "subslide"
    }
   },
   "outputs": [
    {
     "name": "stdout",
     "output_type": "stream",
     "text": [
      "Le produit de ces 4 nombres est 384\n"
     ]
    }
   ],
   "source": [
    "nombres = [2, 4, 6, 8]\n",
    "produit = 1\n",
    "for nombre in nombres:\n",
    "    produit *= nombre\n",
    "\n",
    "print(\"Le produit de ces\", len(nombres), \"nombres est\", produit)"
   ]
  },
  {
   "cell_type": "code",
   "execution_count": 49,
   "metadata": {
    "slideshow": {
     "slide_type": "subslide"
    }
   },
   "outputs": [
    {
     "name": "stdout",
     "output_type": "stream",
     "text": [
      "Date actuelle :\n",
      "2020-01-29 17:40:30.384708\n"
     ]
    }
   ],
   "source": [
    "import datetime\n",
    "\n",
    "print(\"Date actuelle :\")\n",
    "print(datetime.datetime.now())"
   ]
  },
  {
   "cell_type": "code",
   "execution_count": 50,
   "metadata": {
    "slideshow": {
     "slide_type": "subslide"
    }
   },
   "outputs": [
    {
     "name": "stdout",
     "output_type": "stream",
     "text": [
      "0 1 1 2 3 5 8 13 21 34 55 89 144 233 377 610 987 \n"
     ]
    }
   ],
   "source": [
    "def fib(n):\n",
    "    \"\"\" Affiche les premières valeurs de la suite de Fibonacci <= n.\"\"\"\n",
    "    a, b = 0, 1\n",
    "    while a < n:\n",
    "        print(a, end=' ')\n",
    "        a, b = b, a+b\n",
    "    print()\n",
    "\n",
    "fib(1000)"
   ]
  },
  {
   "cell_type": "markdown",
   "metadata": {},
   "source": [
    "Depuis un notebook Jupyter, la documentation de n'importe quelle valeur peut être affichée avec la touche tab, ou en utilisant :"
   ]
  },
  {
   "cell_type": "code",
   "execution_count": 51,
   "metadata": {},
   "outputs": [],
   "source": [
    "fib?"
   ]
  },
  {
   "cell_type": "markdown",
   "metadata": {
    "slideshow": {
     "slide_type": "slide"
    }
   },
   "source": [
    "### Manipulation de tableaux numpy et affichage avec Matplotlib"
   ]
  },
  {
   "cell_type": "markdown",
   "metadata": {
    "slideshow": {
     "slide_type": "subslide"
    }
   },
   "source": [
    "Cet exemple est tiré d'un exercice d'oral de CentraleSupélec pour PSI (166 officiel de la Taupe 2019).\n",
    "\n",
    "Sur un plateau style Monopoly à 12 cases, un pion part de la case 0, et on joue au dé (à 6 faces) pour avancer à chaque coup de $x$ case (où $x\\sim\\mathcal{U}(1,\\dots,6)$.\n",
    "\n",
    "L'exercice demande de simuler la variable aléatoire $Y_n$ représentant la case sur laquelle le pion se trouve après $n$ déplacements."
   ]
  },
  {
   "cell_type": "code",
   "execution_count": 25,
   "metadata": {
    "slideshow": {
     "slide_type": "subslide"
    }
   },
   "outputs": [],
   "source": [
    "import numpy as np\n",
    "import numpy.random as rd\n",
    "\n",
    "import matplotlib.pyplot as plt\n",
    "import seaborn as sns\n",
    "sns.set(context=\"notebook\", style=\"whitegrid\", palette=\"hls\", font=\"sans-serif\", font_scale=1.3)"
   ]
  },
  {
   "cell_type": "code",
   "execution_count": 26,
   "metadata": {
    "slideshow": {
     "slide_type": "subslide"
    }
   },
   "outputs": [],
   "source": [
    "case_max = 12\n",
    "univers = list(range(case_max))\n",
    "\n",
    "def prochaine_case(case):\n",
    "    return (case + rd.randint(1, 6+1)) % case_max\n",
    "\n",
    "def Yn(duree, depart=0):\n",
    "    case = depart\n",
    "    for coup in range(duree):\n",
    "        case = prochaine_case(case)\n",
    "    return case"
   ]
  },
  {
   "cell_type": "markdown",
   "metadata": {
    "slideshow": {
     "slide_type": "subslide"
    }
   },
   "source": [
    "Avant de s'en servir pour simuler plein de trajectoirs, on peut vérifier que en un coup, on avance pas plus de 6 cases :"
   ]
  },
  {
   "cell_type": "code",
   "execution_count": 27,
   "metadata": {
    "slideshow": {
     "slide_type": "subslide"
    }
   },
   "outputs": [
    {
     "data": {
      "text/plain": [
       "[4, 4, 6, 6, 1, 6, 2, 1, 4, 5]"
      ]
     },
     "execution_count": 27,
     "metadata": {},
     "output_type": "execute_result"
    }
   ],
   "source": [
    "[Yn(1) for _ in range(10)]"
   ]
  },
  {
   "cell_type": "markdown",
   "metadata": {},
   "source": [
    "On peut ensuite réaliser des histogrammes des 12 valeurs possibles pour $Y_n$, avec par exemple 10000 répétitions iid."
   ]
  },
  {
   "cell_type": "code",
   "execution_count": 31,
   "metadata": {},
   "outputs": [],
   "source": [
    "def histogramme(duree, repetitions=10000):\n",
    "    cases = [Yn(duree) for _ in range(repetitions)]\n",
    "    frequences = np.bincount(cases, minlength=case_max)\n",
    "    # aussi a la main si besoin\n",
    "    frequences = [0] * case_max\n",
    "    for case in cases:\n",
    "        frequences[case] += 1\n",
    "    return frequences / np.sum(frequences)"
   ]
  },
  {
   "cell_type": "code",
   "execution_count": 32,
   "metadata": {
    "slideshow": {
     "slide_type": "subslide"
    }
   },
   "outputs": [
    {
     "data": {
      "text/plain": [
       "<Figure size 720x504 with 0 Axes>"
      ]
     },
     "execution_count": 32,
     "metadata": {},
     "output_type": "execute_result"
    },
    {
     "data": {
      "text/plain": [
       "<BarContainer object of 12 artists>"
      ]
     },
     "execution_count": 32,
     "metadata": {},
     "output_type": "execute_result"
    },
    {
     "data": {
      "text/plain": [
       "Text(0.5, 1.0, 'Histogramme de cases visitées en 0 coups')"
      ]
     },
     "execution_count": 32,
     "metadata": {},
     "output_type": "execute_result"
    },
    {
     "data": {
      "image/png": "[encoded data removed]",
      "text/plain": [
       "<Figure size 720x504 with 1 Axes>"
      ]
     },
     "metadata": {},
     "output_type": "display_data"
    }
   ],
   "source": [
    "n = 0\n",
    "plt.figure(figsize=(10,7))\n",
    "plt.bar(np.arange(case_max), histogramme(n))\n",
    "plt.title(\"Histogramme de cases visitées en \" + str(n) + \" coups\")\n",
    "plt.show()"
   ]
  },
  {
   "cell_type": "code",
   "execution_count": 33,
   "metadata": {
    "slideshow": {
     "slide_type": "subslide"
    }
   },
   "outputs": [
    {
     "data": {
      "text/plain": [
       "<Figure size 720x504 with 0 Axes>"
      ]
     },
     "execution_count": 33,
     "metadata": {},
     "output_type": "execute_result"
    },
    {
     "data": {
      "text/plain": [
       "<BarContainer object of 12 artists>"
      ]
     },
     "execution_count": 33,
     "metadata": {},
     "output_type": "execute_result"
    },
    {
     "data": {
      "text/plain": [
       "Text(0.5, 1.0, 'Histogramme de cases visitées en 1 coups')"
      ]
     },
     "execution_count": 33,
     "metadata": {},
     "output_type": "execute_result"
    },
    {
     "data": {
      "image/png": "[encoded data removed]",
      "text/plain": [
       "<Figure size 720x504 with 1 Axes>"
      ]
     },
     "metadata": {},
     "output_type": "display_data"
    }
   ],
   "source": [
    "n = 1\n",
    "plt.figure(figsize=(10,7))\n",
    "plt.bar(np.arange(case_max), histogramme(n))\n",
    "plt.title(\"Histogramme de cases visitées en \" + str(n) + \" coups\")\n",
    "plt.show()"
   ]
  },
  {
   "cell_type": "code",
   "execution_count": 34,
   "metadata": {
    "slideshow": {
     "slide_type": "subslide"
    }
   },
   "outputs": [
    {
     "data": {
      "text/plain": [
       "<Figure size 720x504 with 0 Axes>"
      ]
     },
     "execution_count": 34,
     "metadata": {},
     "output_type": "execute_result"
    },
    {
     "data": {
      "text/plain": [
       "<BarContainer object of 12 artists>"
      ]
     },
     "execution_count": 34,
     "metadata": {},
     "output_type": "execute_result"
    },
    {
     "data": {
      "text/plain": [
       "Text(0.5, 1.0, 'Histogramme de cases visitées en 10 coups')"
      ]
     },
     "execution_count": 34,
     "metadata": {},
     "output_type": "execute_result"
    },
    {
     "data": {
      "image/png": "[encoded data removed]",
      "text/plain": [
       "<Figure size 720x504 with 1 Axes>"
      ]
     },
     "metadata": {},
     "output_type": "display_data"
    }
   ],
   "source": [
    "n = 10\n",
    "plt.figure(figsize=(10,7))\n",
    "plt.bar(np.arange(case_max), histogramme(n))\n",
    "plt.title(\"Histogramme de cases visitées en \" + str(n) + \" coups\")\n",
    "plt.show()"
   ]
  },
  {
   "cell_type": "code",
   "execution_count": 35,
   "metadata": {
    "slideshow": {
     "slide_type": "subslide"
    }
   },
   "outputs": [
    {
     "data": {
      "text/plain": [
       "<Figure size 720x504 with 0 Axes>"
      ]
     },
     "execution_count": 35,
     "metadata": {},
     "output_type": "execute_result"
    },
    {
     "data": {
      "text/plain": [
       "<BarContainer object of 12 artists>"
      ]
     },
     "execution_count": 35,
     "metadata": {},
     "output_type": "execute_result"
    },
    {
     "data": {
      "text/plain": [
       "Text(0.5, 1.0, 'Histogramme de cases visitées en 500 coups')"
      ]
     },
     "execution_count": 35,
     "metadata": {},
     "output_type": "execute_result"
    },
    {
     "data": {
      "image/png": "[encoded data removed]",
      "text/plain": [
       "<Figure size 720x504 with 1 Axes>"
      ]
     },
     "metadata": {},
     "output_type": "display_data"
    }
   ],
   "source": [
    "n = 500\n",
    "plt.figure(figsize=(10,7))\n",
    "plt.bar(np.arange(case_max), histogramme(n))\n",
    "plt.title(\"Histogramme de cases visitées en \" + str(n) + \" coups\")\n",
    "plt.show()"
   ]
  },
  {
   "cell_type": "markdown",
   "metadata": {},
   "source": [
    "Cela montre qu'avec une trajectoire assez longue, le pion a une probabilité identique de terminer sur chaque position."
   ]
  },
  {
   "cell_type": "markdown",
   "metadata": {
    "slideshow": {
     "slide_type": "slide"
    }
   },
   "source": [
    "### Pavage de Penrose avec un joli programme\n",
    "\n",
    "Ce petit code (qui n'est pas de moi) [Penrose tiling](https://en.wikipedia.org/wiki/Penrose_tiling) (infinite pattern) to a PNG image, of resolution 2000×2000 :"
   ]
  },
  {
   "cell_type": "code",
   "execution_count": 6,
   "metadata": {
    "slideshow": {
     "slide_type": "subslide"
    }
   },
   "outputs": [
    {
     "name": "stdout",
     "output_type": "stream",
     "text": [
      "CPU times: user 4.49 s, sys: 0 ns, total: 4.49 s\n",
      "Wall time: 4.5 s\n"
     ]
    }
   ],
   "source": [
    "%%time\n",
    "from functools import reduce\n",
    "_                                 =\\\n",
    "                                \"\"\"if!\n",
    "                              1:\"e,V=200\n",
    "                            0,(0j-1)**-.2;\n",
    "                           v,S=.5/  V.real,\n",
    "                         [(0,0,4      *e,4*e*\n",
    "                       V)];w=1          -v\"def!\n",
    "                      E(T,A,              B,C):P\n",
    "                  ,Q,R=B*w+                A*v,B*w+C\n",
    "            *v,A*w+B*v;retur              n[(1,Q,C,A),(1,P\n",
    "     ,Q,B),(0,Q,P,A)]*T+[(0,C            ,R,B),(1,R,C,A)]*(1-T)\"f\n",
    "or!i!in!_[:11]:S       =sum([E          (*x)for       !x!in!S],[])\"imp\n",
    "  ort!cair               o!as!O;      s=O.Ima               geSurfac\n",
    "   e(1,e,e)               ;c=O.Con  text(s);               M,L,G=c.\n",
    "     move_to                ,c.line_to,c.s                et_sour\n",
    "       ce_rgb                a\"def!z(f,a)                :f(-a.\n",
    "        imag,a.       real-e-e)\"for!T,A,B,C!in[i       !for!i!\n",
    "          in!S!if!i[\"\"\";exec(reduce(lambda x,i:x.replace(chr\n",
    "           (i),\"\\n \"[34-i:]),   range(   35),_+\"\"\"0]]:z(M,A\n",
    "             );z(L,B);z         (L,C);         c.close_pa\n",
    "             th()\"G             (.4,.3             ,1);c.\n",
    "             paint(             );G(.7             ,.7,1)\n",
    "             ;c.fil             l()\"fo             r!i!in\n",
    "             !range             (9):\"!             g=1-i/\n",
    "             8;d=i/          4*g;G(d,d,d,          1-g*.8\n",
    "             )\"!def     !y(f,a):z(f,a+(1+2j)*(     1j**(i\n",
    "             /2.))*g)\"!for!T,A,B,C!in!S:y(M,C);y(L,A);y(M\n",
    "             ,A);y(L,B)\"!c.st            roke()\"s.write_t\n",
    "             o_png('figs/                   penrose.png')\n",
    "             \"\"\"                                       ))\n",
    "\n"
   ]
  },
  {
   "cell_type": "markdown",
   "metadata": {
    "slideshow": {
     "slide_type": "subslide"
    }
   },
   "source": [
    "<center><img width=\"80%\" src=\"figs/penrose.png\"/></center>"
   ]
  },
  {
   "cell_type": "markdown",
   "metadata": {
    "slideshow": {
     "slide_type": "slide"
    }
   },
   "source": [
    "---\n",
    "\n",
    "## Présentant ma propre utilisation de notebooks Jupyter\n",
    "\n",
    "Je souhaite vous montrer différents cas d'utilisation des cahiers Jupyter au quotidien pour mes activités d’enseignement, durant les trois dernières années.\n",
    "\n",
    "Je présenterai principalement des exemples de ressources produites à partir d’un notebook Jupyter, et comment convertir des notebooks en HTML."
   ]
  },
  {
   "cell_type": "markdown",
   "metadata": {
    "slideshow": {
     "slide_type": "subslide"
    }
   },
   "source": [
    "### Quelques micro exemples très pratiques"
   ]
  },
  {
   "cell_type": "code",
   "execution_count": 55,
   "metadata": {
    "scrolled": true
   },
   "outputs": [
    {
     "name": "stdout",
     "output_type": "stream",
     "text": [
      "-rw-r--r-- 1 lilian lilian  45K oct.  22 09:58 paper/apercu_ENS_agreg_1.png\r\n",
      "-rw-r--r-- 1 lilian lilian  51K oct.  22 09:58 paper/apercu_ENS_agreg_2.png\r\n",
      "-rw-r--r-- 1 lilian lilian  87K oct.  22 09:58 paper/apercu_ENS_agreg_3.png\r\n",
      "-rw-r--r-- 1 lilian lilian 125K oct.  22 09:58 paper/apercu_ENS_agreg_4.png\r\n",
      "-rw-r--r-- 1 lilian lilian 108K oct.  22 09:58 paper/interactive_Turing_Machine_simulator_1.png\r\n",
      "-rw-r--r-- 1 lilian lilian  94K oct.  22 09:58 paper/interactive_Turing_Machine_simulator_2.png\r\n",
      "-rw-r--r-- 1 lilian lilian  41K janv. 29 11:27 figs/introspection_in_ocaml.png\r\n",
      "-rw-rw-r-- 1 lilian lilian 342K janv. 29 16:55 figs/git_diff_for_jupyter_notebooks.png\r\n",
      "-rw-rw-r-- 1 lilian lilian 105K janv. 29 16:56 figs/installing_jupyter.png\r\n",
      "-rw-rw-r-- 1 lilian lilian 215K janv. 29 16:58 figs/installing_jupyter_with_Anaconda.png\r\n",
      "-rw-rw-r-- 1 lilian lilian 2,5M janv. 29 17:02 figs/penrose.png\r\n",
      "-rw-rw-r-- 1 lilian lilian 122K janv. 29 17:48 figs/apercu_prepa.png\r\n",
      "-rw-rw-r-- 1 lilian lilian 181K janv. 29 17:49 figs/apercu_prepa2.png\r\n"
     ]
    }
   ],
   "source": [
    "# Dans Python avec Jupyter, on a accès au shell/terminal de l'environnement facilement :\n",
    "!ls -larth paper/*.png figs/*.png"
   ]
  },
  {
   "cell_type": "code",
   "execution_count": 58,
   "metadata": {},
   "outputs": [
    {
     "name": "stdout",
     "output_type": "stream",
     "text": [
      "\r\n",
      "                              IP : 131.254.100.11\r\n",
      "                              lbesson-p.irisa.fr\r\n",
      "\r\n",
      "\r\n",
      "                   Pas de proxy détecté - No Proxy detected\r\n"
     ]
    }
   ],
   "source": [
    "# Quelle est mon adresse IP ?\n",
    "!wget --quiet -O - http://monip.org/ | html2text"
   ]
  },
  {
   "cell_type": "markdown",
   "metadata": {
    "slideshow": {
     "slide_type": "subslide"
    }
   },
   "source": [
    "### Correction interactive de TP en prépa (PSI)\n",
    "\n",
    "J'ai écrit les solutions pour les sessions pratiques données en tant qu’entraı̂nement pour l'examen oral “Mathématiques avec Python” du concours CentraleSupélec (CPGE), avec des notebooks Jupyter, afin de les partager facilement avec les étudiants, de les exposer et de travailler dessus pendant les sessions pratiques. Voir https://perso.crans.org/besson/notebooks/Oraux_CentraleSupelec_PSI__Juin_2019.html, avec Python et des maths, pour les étudiants d'une classe du PSI (CPGE) en juin 2017, 2018 et 2019.\n",
    "\n",
    "<center><img width=\"70%\" src=\"figs/apercu_prepa.png\"/></center>"
   ]
  },
  {
   "cell_type": "markdown",
   "metadata": {
    "slideshow": {
     "slide_type": "subslide"
    }
   },
   "source": [
    "<center><img width=\"70%\" src=\"figs/apercu_prepa2.png\"/></center>"
   ]
  },
  {
   "cell_type": "markdown",
   "metadata": {
    "slideshow": {
     "slide_type": "subslide"
    }
   },
   "source": [
    "### Entraînement à l'oral de modélisation d'agrégation (maths option info)\n",
    "J'ai utilisé des notebooks Jupyter pour écrire les sujets et les solutions des sessions pratiques utilisées pour entraı̂ner nos étudiants à l'examen oral de modélisation de l’agrégation. Voir https://nbviewer.jupyter.org/github/Naereen/notebooks/tree/master/agreg/TP_Programmation_2017-18/, avec le langage OCaml, pour des étudiants de M2.\n",
    "\n",
    "<center><img width=\"70%\" src=\"paper/apercu_ENS_agreg_1.png\"/></center>"
   ]
  },
  {
   "cell_type": "markdown",
   "metadata": {
    "slideshow": {
     "slide_type": "subslide"
    }
   },
   "source": [
    "<center><img width=\"70%\" src=\"paper/apercu_ENS_agreg_2.png\"/></center>"
   ]
  },
  {
   "cell_type": "markdown",
   "metadata": {
    "slideshow": {
     "slide_type": "subslide"
    }
   },
   "source": [
    "<center><img width=\"70%\" src=\"paper/apercu_ENS_agreg_3.png\"/></center>"
   ]
  },
  {
   "cell_type": "markdown",
   "metadata": {
    "slideshow": {
     "slide_type": "subslide"
    }
   },
   "source": [
    "### Cours d'algorithmique en L3 informatique\n",
    "\n",
    "J'ai écrit des implémentations propres et détaillées de structures de données et d’algorithmes, pour un cours d’algorithmique à l'automne 2019, avec des notebooks Jupyter. Voir https://github.com/Naereen/ALGO1-Info1-2019/, avec le langage Python, pour des étudiants de L3.\n",
    "\n",
    "<center><img width=\"70%\" src=\"paper/apercu_ENS_agreg_4.png\"/></center>"
   ]
  },
  {
   "cell_type": "markdown",
   "metadata": {
    "slideshow": {
     "slide_type": "slide"
    }
   },
   "source": [
    "---\n",
    "## Conclusion : conseils pour devenir un-e expert-e en Jupyter"
   ]
  },
  {
   "cell_type": "markdown",
   "metadata": {
    "slideshow": {
     "slide_type": "subslide"
    }
   },
   "source": [
    "- Comment utiliser un dépôt GitHub/Bitbucket/GitLab pour héberger des notebooks Jupyter, et les afficher en ligne en utilisant le site https://nbviewer.jupyter.org/.\n",
    "  + https://nbviewer.jupyter.org/github/Naereen/Tutoriel-notebooks-Jupyter-a-Didapro-8-Lille-fevrier-2020\n",
    "  + Voir https://github.com/Naereen/ALGO1-Info1-2019/ et https://github.com/Naereen/notebooks/ pour des exemples."
   ]
  },
  {
   "cell_type": "markdown",
   "metadata": {
    "slideshow": {
     "slide_type": "subslide"
    }
   },
   "source": [
    "- Utilisez Binder, Google Colab ou d’autres outils gratuits en ligne, pour ajouter un lien afin que tout utilisateur consultant vos notebooks Jupyter puisse démarrer un environnement interactif, directement depuis son navigateur Web, pour interagir avec le notebook sans rien avoir à installer.\n",
    "  + https://mybinder.org/repo/Naereen/Tutoriel-notebooks-Jupyter-a-Didapro-8-Lille-fevrier-2020"
   ]
  },
  {
   "cell_type": "markdown",
   "metadata": {
    "slideshow": {
     "slide_type": "subslide"
    }
   },
   "source": [
    "- Utilisez les extensions Jupyter pour améliorer l'EDI. Voir https://jupyter-contrib-nbextensions.readthedocs.io/en/latest/.\n",
    "  + par exemple pour ajouter automatiquement une table des matières,\n",
    "  + ou afficher une présentation interactive dynamiquement générée depuis le notebook (comme pour ce tutoriel).\n",
    "\n",
    "- Suivez les meilleurs exemples, par exemple le célèbre Peter Norvig (chef de la recherche chez Google) publie des notebooks très intéressants sur son projet https://github.com/norvig/pytudes, depuis 5 ans."
   ]
  },
  {
   "cell_type": "markdown",
   "metadata": {
    "slideshow": {
     "slide_type": "subslide"
    }
   },
   "source": [
    "- Partagez vos notebooks en ligne, avec vos étudiants et collègues, et recevez leurs commentaires.\n",
    "\n",
    "- Utilisez https://github.com/jupyter/nbgrader pour facilement utiliser les notebooks comme support d'évaluation (évaluation automatique du rendu de vos élèves !)."
   ]
  },
  {
   "cell_type": "markdown",
   "metadata": {
    "slideshow": {
     "slide_type": "slide"
    }
   },
   "source": [
    "---\n",
    "## Références et liens"
   ]
  },
  {
   "cell_type": "markdown",
   "metadata": {
    "slideshow": {
     "slide_type": "subslide"
    }
   },
   "source": [
    "### Liens\n",
    "- Ce tutoriel en ligne : https://frama.link/Atelier-Jupyter-Didapro8 (https://github.com/Naereen/Tutoriel-notebooks-Jupyter-a-Didapro-8-Lille-fevrier-2020)\n",
    "- Langage Python : https://www.python.org/\n",
    "- Projet jupyter : https://www.jupyter.org/\n",
    "- Installeur Anaconda : https://www.anaconda.com/distribution/"
   ]
  },
  {
   "cell_type": "markdown",
   "metadata": {
    "slideshow": {
     "slide_type": "subslide"
    }
   },
   "source": [
    "### Publications universitaires\n",
    "- Thomas Kluyver et al. Jupyter Notebooks - a publishing format for reproducible computational workflows. In F. Loizides and B. Schmidt, editors, Positioning and Power in Academic Publishing: Players, Agents and Agendas, pages 87–90. IOS Press, 2016. http://www.jupyter.org/\n",
    "- Python Software Foundation. Python Language Reference, version 3.6, October 2017. http://www.python.org/.\n",
    "- Fernando Pérez and Brian E. Granger. IPython: a System for Interactive Scientific Computing. Computing in Science and Engineering, 9(3):21–29, May 2007. ISSN 1521-9615. http://ipython.org/."
   ]
  }
 ],
 "metadata": {
  "celltoolbar": "Diaporama",
  "kernelspec": {
   "display_name": "Python 3",
   "language": "python",
   "name": "python3"
  },
  "language_info": {
   "codemirror_mode": {
    "name": "ipython",
    "version": 3
   },
   "file_extension": ".py",
   "mimetype": "text/x-python",
   "name": "python",
   "nbconvert_exporter": "python",
   "pygments_lexer": "ipython3",
   "version": "3.7.5"
  },
  "toc": {
   "colors": {
    "hover_highlight": "#DAA520",
    "running_highlight": "#FF0000",
    "selected_highlight": "#FFD700"
   },
   "moveMenuLeft": true,
   "nav_menu": {
    "height": "138.417px",
    "width": "251.667px"
   },
   "navigate_menu": true,
   "number_sections": true,
   "sideBar": true,
   "threshold": 4,
   "toc_cell": true,
   "toc_position": {
    "height": "685.317px",
    "left": "0px",
    "right": "1372px",
    "top": "121.683px",
    "width": "228px"
   },
   "toc_section_display": "block",
   "toc_window_display": false
  },
  "varInspector": {
   "cols": {
    "lenName": 16,
    "lenType": 16,
    "lenVar": 40
   },
   "kernels_config": {
    "python": {
     "delete_cmd_postfix": "",
     "delete_cmd_prefix": "del ",
     "library": "var_list.py",
     "varRefreshCmd": "print(var_dic_list())"
    },
    "r": {
     "delete_cmd_postfix": ") ",
     "delete_cmd_prefix": "rm(",
     "library": "var_list.r",
     "varRefreshCmd": "cat(var_dic_list()) "
    }
   },
   "types_to_exclude": [
    "module",
    "function",
    "builtin_function_or_method",
    "instance",
    "_Feature"
   ],
   "window_display": false
  }
 },
 "nbformat": 4,
 "nbformat_minor": 2
}
